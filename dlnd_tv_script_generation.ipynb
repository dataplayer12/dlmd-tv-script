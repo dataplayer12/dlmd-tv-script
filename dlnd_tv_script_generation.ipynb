{
 "cells": [
  {
   "cell_type": "markdown",
   "metadata": {},
   "source": [
    "# TV Script Generation\n",
    "In this project, you'll generate your own [Simpsons](https://en.wikipedia.org/wiki/The_Simpsons) TV scripts using RNNs.  You'll be using part of the [Simpsons dataset](https://www.kaggle.com/wcukierski/the-simpsons-by-the-data) of scripts from 27 seasons.  The Neural Network you'll build will generate a new TV script for a scene at [Moe's Tavern](https://simpsonswiki.com/wiki/Moe's_Tavern).\n",
    "## Get the Data\n",
    "The data is already provided for you.  You'll be using a subset of the original dataset.  It consists of only the scenes in Moe's Tavern.  This doesn't include other versions of the tavern, like \"Moe's Cavern\", \"Flaming Moe's\", \"Uncle Moe's Family Feed-Bag\", etc.."
   ]
  },
  {
   "cell_type": "code",
   "execution_count": 1,
   "metadata": {},
   "outputs": [
    {
     "name": "stdout",
     "output_type": "stream",
     "text": [
      "3.6.0 |Continuum Analytics, Inc.| (default, Dec 23 2016, 13:19:00) \n",
      "[GCC 4.2.1 Compatible Apple LLVM 6.0 (clang-600.0.57)]\n"
     ]
    }
   ],
   "source": [
    "\"\"\"\n",
    "DON'T MODIFY ANYTHING IN THIS CELL\n",
    "\"\"\"\n",
    "\n",
    "import helper\n",
    "\n",
    "data_dir = './data/simpsons/moes_tavern_lines.txt'\n",
    "text = helper.load_data(data_dir)\n",
    "# Ignore notice, since we don't use it for analysing the data\n",
    "text = text[81:]"
   ]
  },
  {
   "cell_type": "code",
   "execution_count": null,
   "metadata": {
    "collapsed": true
   },
   "outputs": [],
   "source": []
  },
  {
   "cell_type": "markdown",
   "metadata": {},
   "source": [
    "## Explore the Data\n",
    "Play around with `view_sentence_range` to view different parts of the data."
   ]
  },
  {
   "cell_type": "code",
   "execution_count": 2,
   "metadata": {},
   "outputs": [
    {
     "name": "stdout",
     "output_type": "stream",
     "text": [
      "Dataset Stats\n",
      "Roughly the number of unique words: 11492\n",
      "Number of scenes: 262\n",
      "Average number of sentences in each scene: 15.251908396946565\n",
      "Number of lines: 4258\n",
      "Average number of words in each line: 11.50164396430249\n",
      "\n",
      "The sentences 0 to 10:\n",
      "\n",
      "Moe_Szyslak: (INTO PHONE) Moe's Tavern. Where the elite meet to drink.\n",
      "Bart_Simpson: Eh, yeah, hello, is Mike there? Last name, Rotch.\n",
      "Moe_Szyslak: (INTO PHONE) Hold on, I'll check. (TO BARFLIES) Mike Rotch. Mike Rotch. Hey, has anybody seen Mike Rotch, lately?\n",
      "Moe_Szyslak: (INTO PHONE) Listen you little puke. One of these days I'm gonna catch you, and I'm gonna carve my name on your back with an ice pick.\n",
      "Moe_Szyslak: What's the matter Homer? You're not your normal effervescent self.\n",
      "Homer_Simpson: I got my problems, Moe. Give me another one.\n",
      "Moe_Szyslak: Homer, hey, you should not drink to forget your problems.\n",
      "Barney_Gumble: Yeah, you should only drink to enhance your social skills.\n",
      "\n"
     ]
    }
   ],
   "source": [
    "view_sentence_range = (0, 10)\n",
    "\n",
    "\"\"\"\n",
    "DON'T MODIFY ANYTHING IN THIS CELL\n",
    "\"\"\"\n",
    "import numpy as np\n",
    "\n",
    "print('Dataset Stats')\n",
    "print('Roughly the number of unique words: {}'.format(len({word: None for word in text.split()})))\n",
    "scenes = text.split('\\n\\n')\n",
    "print('Number of scenes: {}'.format(len(scenes)))\n",
    "sentence_count_scene = [scene.count('\\n') for scene in scenes]\n",
    "print('Average number of sentences in each scene: {}'.format(np.average(sentence_count_scene)))\n",
    "\n",
    "sentences = [sentence for scene in scenes for sentence in scene.split('\\n')]\n",
    "print('Number of lines: {}'.format(len(sentences)))\n",
    "word_count_sentence = [len(sentence.split()) for sentence in sentences]\n",
    "print('Average number of words in each line: {}'.format(np.average(word_count_sentence)))\n",
    "\n",
    "print()\n",
    "print('The sentences {} to {}:'.format(*view_sentence_range))\n",
    "print('\\n'.join(text.split('\\n')[view_sentence_range[0]:view_sentence_range[1]]))"
   ]
  },
  {
   "cell_type": "markdown",
   "metadata": {},
   "source": [
    "## Implement Preprocessing Functions\n",
    "The first thing to do to any dataset is preprocessing.  Implement the following preprocessing functions below:\n",
    "- Lookup Table\n",
    "- Tokenize Punctuation\n",
    "\n",
    "### Lookup Table\n",
    "To create a word embedding, you first need to transform the words to ids.  In this function, create two dictionaries:\n",
    "- Dictionary to go from the words to an id, we'll call `vocab_to_int`\n",
    "- Dictionary to go from the id to word, we'll call `int_to_vocab`\n",
    "\n",
    "Return these dictionaries in the following tuple `(vocab_to_int, int_to_vocab)`"
   ]
  },
  {
   "cell_type": "code",
   "execution_count": 3,
   "metadata": {},
   "outputs": [
    {
     "name": "stdout",
     "output_type": "stream",
     "text": [
      "Tests Passed\n"
     ]
    }
   ],
   "source": [
    "import numpy as np\n",
    "import problem_unittests as tests\n",
    "\n",
    "def create_lookup_tables(text):\n",
    "    \"\"\"\n",
    "    Create lookup tables for vocabulary\n",
    "    :param text: The text of tv scripts split into words\n",
    "    :return: A tuple of dicts (vocab_to_int, int_to_vocab)\n",
    "    \"\"\"\n",
    "    # TODO: Implement Function\n",
    "    vocab=list(set(text))\n",
    "    vocab_to_int = {word: idx for idx,word in enumerate(vocab)}\n",
    "    int_to_vocab = {val: key for key,val in vocab_to_int.items()}\n",
    "    return (vocab_to_int, int_to_vocab)\n",
    "\n",
    "\n",
    "\"\"\"\n",
    "DON'T MODIFY ANYTHING IN THIS CELL THAT IS BELOW THIS LINE\n",
    "\"\"\"\n",
    "tests.test_create_lookup_tables(create_lookup_tables)"
   ]
  },
  {
   "cell_type": "markdown",
   "metadata": {},
   "source": [
    "### Tokenize Punctuation\n",
    "We'll be splitting the script into a word array using spaces as delimiters.  However, punctuations like periods and exclamation marks make it hard for the neural network to distinguish between the word \"bye\" and \"bye!\".\n",
    "\n",
    "Implement the function `token_lookup` to return a dict that will be used to tokenize symbols like \"!\" into \"||Exclamation_Mark||\".  Create a dictionary for the following symbols where the symbol is the key and value is the token:\n",
    "- Period ( . )\n",
    "- Comma ( , )\n",
    "- Quotation Mark ( \" )\n",
    "- Semicolon ( ; )\n",
    "- Exclamation mark ( ! )\n",
    "- Question mark ( ? )\n",
    "- Left Parentheses ( ( )\n",
    "- Right Parentheses ( ) )\n",
    "- Dash ( -- )\n",
    "- Return ( \\n )\n",
    "\n",
    "This dictionary will be used to token the symbols and add the delimiter (space) around it.  This separates the symbols as it's own word, making it easier for the neural network to predict on the next word. Make sure you don't use a token that could be confused as a word. Instead of using the token \"dash\", try using something like \"||dash||\"."
   ]
  },
  {
   "cell_type": "code",
   "execution_count": 4,
   "metadata": {},
   "outputs": [
    {
     "name": "stdout",
     "output_type": "stream",
     "text": [
      "Tests Passed\n"
     ]
    }
   ],
   "source": [
    "def token_lookup():\n",
    "    \"\"\"\n",
    "    Generate a dict to turn punctuation into a token.\n",
    "    :return: Tokenize dictionary where the key is the punctuation and the value is the token\n",
    "    \"\"\"\n",
    "    # TODO: Implement Function\n",
    "    dictionary={'.':'||PERIOD||',',':'||COMMA||','\"':'||QUOTATION||',\\\n",
    "                ';': '||SEMICOLON||','!':'||EXCLAMATION||',\\\n",
    "               '?': '||QUESTIONMARK||','(':'||LEFTPARENTHESIS||',\\\n",
    "               ')': '||RIGHTPARENTHESIS||','--':'||DASH||', '\\n':'||RETURN||'}\n",
    "    return dictionary\n",
    "\n",
    "\"\"\"\n",
    "DON'T MODIFY ANYTHING IN THIS CELL THAT IS BELOW THIS LINE\n",
    "\"\"\"\n",
    "tests.test_tokenize(token_lookup)"
   ]
  },
  {
   "cell_type": "markdown",
   "metadata": {},
   "source": [
    "## Preprocess all the data and save it\n",
    "Running the code cell below will preprocess all the data and save it to file."
   ]
  },
  {
   "cell_type": "code",
   "execution_count": 5,
   "metadata": {},
   "outputs": [
    {
     "name": "stdout",
     "output_type": "stream",
     "text": [
      "3.6.0 |Continuum Analytics, Inc.| (default, Dec 23 2016, 13:19:00) \n",
      "[GCC 4.2.1 Compatible Apple LLVM 6.0 (clang-600.0.57)]\n"
     ]
    }
   ],
   "source": [
    "\"\"\"\n",
    "DON'T MODIFY ANYTHING IN THIS CELL\n",
    "\"\"\"\n",
    "# Preprocess Training, Validation, and Testing Data\n",
    "helper.preprocess_and_save_data(data_dir, token_lookup, create_lookup_tables)"
   ]
  },
  {
   "cell_type": "markdown",
   "metadata": {},
   "source": [
    "# Check Point\n",
    "This is your first checkpoint. If you ever decide to come back to this notebook or have to restart the notebook, you can start from here. The preprocessed data has been saved to disk."
   ]
  },
  {
   "cell_type": "code",
   "execution_count": 6,
   "metadata": {
    "collapsed": true
   },
   "outputs": [],
   "source": [
    "\"\"\"\n",
    "DON'T MODIFY ANYTHING IN THIS CELL\n",
    "\"\"\"\n",
    "import helper\n",
    "import numpy as np\n",
    "import problem_unittests as tests\n",
    "\n",
    "int_text, vocab_to_int, int_to_vocab, token_dict = helper.load_preprocess()"
   ]
  },
  {
   "cell_type": "markdown",
   "metadata": {},
   "source": [
    "## Build the Neural Network\n",
    "You'll build the components necessary to build a RNN by implementing the following functions below:\n",
    "- get_inputs\n",
    "- get_init_cell\n",
    "- get_embed\n",
    "- build_rnn\n",
    "- build_nn\n",
    "- get_batches\n",
    "\n",
    "### Check the Version of TensorFlow and Access to GPU"
   ]
  },
  {
   "cell_type": "code",
   "execution_count": 7,
   "metadata": {},
   "outputs": [
    {
     "name": "stdout",
     "output_type": "stream",
     "text": [
      "TensorFlow Version: 1.2.1\n"
     ]
    },
    {
     "name": "stderr",
     "output_type": "stream",
     "text": [
      "/Users/jaiyam/.pyenv/versions/miniconda2-latest/envs/py3/lib/python3.6/site-packages/ipykernel_launcher.py:14: UserWarning: No GPU found. Please use a GPU to train your neural network.\n",
      "  \n"
     ]
    }
   ],
   "source": [
    "\"\"\"\n",
    "DON'T MODIFY ANYTHING IN THIS CELL\n",
    "\"\"\"\n",
    "from distutils.version import LooseVersion\n",
    "import warnings\n",
    "import tensorflow as tf\n",
    "\n",
    "# Check TensorFlow Version\n",
    "assert LooseVersion(tf.__version__) >= LooseVersion('1.0'), 'Please use TensorFlow version 1.0 or newer'\n",
    "print('TensorFlow Version: {}'.format(tf.__version__))\n",
    "\n",
    "# Check for a GPU\n",
    "if not tf.test.gpu_device_name():\n",
    "    warnings.warn('No GPU found. Please use a GPU to train your neural network.')\n",
    "else:\n",
    "    print('Default GPU Device: {}'.format(tf.test.gpu_device_name()))"
   ]
  },
  {
   "cell_type": "markdown",
   "metadata": {},
   "source": [
    "### Input\n",
    "Implement the `get_inputs()` function to create TF Placeholders for the Neural Network.  It should create the following placeholders:\n",
    "- Input text placeholder named \"input\" using the [TF Placeholder](https://www.tensorflow.org/api_docs/python/tf/placeholder) `name` parameter.\n",
    "- Targets placeholder\n",
    "- Learning Rate placeholder\n",
    "\n",
    "Return the placeholders in the following tuple `(Input, Targets, LearningRate)`"
   ]
  },
  {
   "cell_type": "code",
   "execution_count": 8,
   "metadata": {},
   "outputs": [
    {
     "name": "stdout",
     "output_type": "stream",
     "text": [
      "Tests Passed\n"
     ]
    }
   ],
   "source": [
    "def get_inputs():\n",
    "    \"\"\"\n",
    "    Create TF Placeholders for input, targets, and learning rate.\n",
    "    :return: Tuple (input, targets, learning rate)\n",
    "    \"\"\"\n",
    "    # TODO: Implement Function\n",
    "    inputs_=tf.placeholder(tf.int32, [None,None],name='input')\n",
    "    targets=tf.placeholder(tf.int32,[None,None],name='target')\n",
    "    lr=tf.placeholder(tf.float32,name='learning_rate')\n",
    "    return (inputs_,targets,lr)\n",
    "\n",
    "\n",
    "\"\"\"\n",
    "DON'T MODIFY ANYTHING IN THIS CELL THAT IS BELOW THIS LINE\n",
    "\"\"\"\n",
    "tests.test_get_inputs(get_inputs)"
   ]
  },
  {
   "cell_type": "markdown",
   "metadata": {},
   "source": [
    "### Build RNN Cell and Initialize\n",
    "Stack one or more [`BasicLSTMCells`](https://www.tensorflow.org/api_docs/python/tf/contrib/rnn/BasicLSTMCell) in a [`MultiRNNCell`](https://www.tensorflow.org/api_docs/python/tf/contrib/rnn/MultiRNNCell).\n",
    "- The Rnn size should be set using `rnn_size`\n",
    "- Initalize Cell State using the MultiRNNCell's [`zero_state()`](https://www.tensorflow.org/api_docs/python/tf/contrib/rnn/MultiRNNCell#zero_state) function\n",
    "    - Apply the name \"initial_state\" to the initial state using [`tf.identity()`](https://www.tensorflow.org/api_docs/python/tf/identity)\n",
    "\n",
    "Return the cell and initial state in the following tuple `(Cell, InitialState)`"
   ]
  },
  {
   "cell_type": "code",
   "execution_count": 9,
   "metadata": {},
   "outputs": [
    {
     "name": "stdout",
     "output_type": "stream",
     "text": [
      "Tensor(\"Shape:0\", shape=(4,), dtype=int32)\n",
      "Tests Passed\n"
     ]
    }
   ],
   "source": [
    "def get_init_cell(batch_size, rnn_size):\n",
    "    \"\"\"\n",
    "    Create an RNN Cell and initialize it.\n",
    "    :param batch_size: Size of batches\n",
    "    :param rnn_size: Size of RNNs\n",
    "    :return: Tuple (cell, initialize state)\n",
    "    \"\"\"\n",
    "    # TODO: Implement Function\n",
    "    cell=tf.contrib.rnn.BasicLSTMCell(rnn_size)\n",
    "    cell=tf.contrib.rnn.MultiRNNCell([cell])\n",
    "    initial_state=cell.zero_state(batch_size,tf.float32)\n",
    "    initial_state=tf.identity(initial_state,name='initial_state')\n",
    "    print(tf.shape(initial_state))\n",
    "    return (cell,initial_state)\n",
    "\n",
    "\n",
    "\"\"\"\n",
    "DON'T MODIFY ANYTHING IN THIS CELL THAT IS BELOW THIS LINE\n",
    "\"\"\"\n",
    "tests.test_get_init_cell(get_init_cell)"
   ]
  },
  {
   "cell_type": "markdown",
   "metadata": {},
   "source": [
    "### Word Embedding\n",
    "Apply embedding to `input_data` using TensorFlow.  Return the embedded sequence."
   ]
  },
  {
   "cell_type": "code",
   "execution_count": 10,
   "metadata": {},
   "outputs": [
    {
     "name": "stdout",
     "output_type": "stream",
     "text": [
      "Tests Passed\n"
     ]
    }
   ],
   "source": [
    "def get_embed(input_data, vocab_size, embed_dim):\n",
    "    \"\"\"\n",
    "    Create embedding for <input_data>.\n",
    "    :param input_data: TF placeholder for text input.\n",
    "    :param vocab_size: Number of words in vocabulary.\n",
    "    :param embed_dim: Number of embedding dimensions\n",
    "    :return: Embedded input.\n",
    "    \"\"\"\n",
    "    # TODO: Implement Function\n",
    "    embedding=tf.Variable(tf.random_uniform([vocab_size,embed_dim],-1,1))\n",
    "    embed=tf.nn.embedding_lookup(embedding,input_data)\n",
    "    return embed\n",
    "\n",
    "\n",
    "\"\"\"\n",
    "DON'T MODIFY ANYTHING IN THIS CELL THAT IS BELOW THIS LINE\n",
    "\"\"\"\n",
    "tests.test_get_embed(get_embed)"
   ]
  },
  {
   "cell_type": "markdown",
   "metadata": {},
   "source": [
    "### Build RNN\n",
    "You created a RNN Cell in the `get_init_cell()` function.  Time to use the cell to create a RNN.\n",
    "- Build the RNN using the [`tf.nn.dynamic_rnn()`](https://www.tensorflow.org/api_docs/python/tf/nn/dynamic_rnn)\n",
    " - Apply the name \"final_state\" to the final state using [`tf.identity()`](https://www.tensorflow.org/api_docs/python/tf/identity)\n",
    "\n",
    "Return the outputs and final_state state in the following tuple `(Outputs, FinalState)` "
   ]
  },
  {
   "cell_type": "code",
   "execution_count": 11,
   "metadata": {},
   "outputs": [
    {
     "name": "stdout",
     "output_type": "stream",
     "text": [
      "Tests Passed\n"
     ]
    }
   ],
   "source": [
    "def build_rnn(cell, inputs):\n",
    "    \"\"\"\n",
    "    Create a RNN using a RNN Cell\n",
    "    :param cell: RNN Cell\n",
    "    :param inputs: Input text data\n",
    "    :return: Tuple (Outputs, Final State)\n",
    "    \"\"\"\n",
    "    # TODO: Implement Function\n",
    "    output,final_state=tf.nn.dynamic_rnn(cell, inputs,dtype=tf.float32)\n",
    "    final_state=tf.identity(final_state, name='final_state')\n",
    "    return (output, final_state)\n",
    "\n",
    "\n",
    "\"\"\"\n",
    "DON'T MODIFY ANYTHING IN THIS CELL THAT IS BELOW THIS LINE\n",
    "\"\"\"\n",
    "tests.test_build_rnn(build_rnn)"
   ]
  },
  {
   "cell_type": "markdown",
   "metadata": {},
   "source": [
    "### Build the Neural Network\n",
    "Apply the functions you implemented above to:\n",
    "- Apply embedding to `input_data` using your `get_embed(input_data, vocab_size, embed_dim)` function.\n",
    "- Build RNN using `cell` and your `build_rnn(cell, inputs)` function.\n",
    "- Apply a fully connected layer with a linear activation and `vocab_size` as the number of outputs.\n",
    "\n",
    "Return the logits and final state in the following tuple (Logits, FinalState) "
   ]
  },
  {
   "cell_type": "code",
   "execution_count": 12,
   "metadata": {},
   "outputs": [
    {
     "name": "stdout",
     "output_type": "stream",
     "text": [
      "Tests Passed\n"
     ]
    }
   ],
   "source": [
    "def build_nn(cell, rnn_size, input_data, vocab_size, embed_dim):\n",
    "    \"\"\"\n",
    "    Build part of the neural network\n",
    "    :param cell: RNN cell\n",
    "    :param rnn_size: Size of rnns\n",
    "    :param input_data: Input data\n",
    "    :param vocab_size: Vocabulary size\n",
    "    :param embed_dim: Number of embedding dimensions\n",
    "    :return: Tuple (Logits, FinalState)\n",
    "    \"\"\"\n",
    "    # TODO: Implement Function\n",
    "    embedded_inputs=get_embed(input_data=input_data, vocab_size=vocab_size,embed_dim=embed_dim)\n",
    "    rnn_output,final_state=build_rnn(cell, embedded_inputs)\n",
    "    output_layer=tf.contrib.layers.fully_connected(rnn_output, vocab_size, activation_fn=None)\n",
    "    \n",
    "    return (output_layer,final_state)\n",
    "\n",
    "\n",
    "\"\"\"\n",
    "DON'T MODIFY ANYTHING IN THIS CELL THAT IS BELOW THIS LINE\n",
    "\"\"\"\n",
    "tests.test_build_nn(build_nn)"
   ]
  },
  {
   "cell_type": "markdown",
   "metadata": {},
   "source": [
    "### Batches\n",
    "Implement `get_batches` to create batches of input and targets using `int_text`.  The batches should be a Numpy array with the shape `(number of batches, 2, batch size, sequence length)`. Each batch contains two elements:\n",
    "- The first element is a single batch of **input** with the shape `[batch size, sequence length]`\n",
    "- The second element is a single batch of **targets** with the shape `[batch size, sequence length]`\n",
    "\n",
    "If you can't fill the last batch with enough data, drop the last batch.\n",
    "\n",
    "For exmple, `get_batches([1, 2, 3, 4, 5, 6, 7, 8, 9, 10, 11, 12, 13, 14, 15, 16, 17, 18, 19, 20], 3, 2)` would return a Numpy array of the following:\n",
    "```\n",
    "[\n",
    "  # First Batch\n",
    "  [\n",
    "    # Batch of Input\n",
    "    [[ 1  2], [ 7  8], [13 14]]\n",
    "    # Batch of targets\n",
    "    [[ 2  3], [ 8  9], [14 15]]\n",
    "  ]\n",
    "\n",
    "  # Second Batch\n",
    "  [\n",
    "    # Batch of Input\n",
    "    [[ 3  4], [ 9 10], [15 16]]\n",
    "    # Batch of targets\n",
    "    [[ 4  5], [10 11], [16 17]]\n",
    "  ]\n",
    "\n",
    "  # Third Batch\n",
    "  [\n",
    "    # Batch of Input\n",
    "    [[ 5  6], [11 12], [17 18]]\n",
    "    # Batch of targets\n",
    "    [[ 6  7], [12 13], [18  1]]\n",
    "  ]\n",
    "]\n",
    "```\n",
    "\n",
    "Notice that the last target value in the last batch is the first input value of the first batch. In this case, `1`. This is a common technique used when creating sequence batches, although it is rather unintuitive."
   ]
  },
  {
   "cell_type": "code",
   "execution_count": 13,
   "metadata": {},
   "outputs": [
    {
     "name": "stdout",
     "output_type": "stream",
     "text": [
      "Tests Passed\n"
     ]
    }
   ],
   "source": [
    "def get_batches(int_text, batch_size, seq_length):\n",
    "    \"\"\"\n",
    "    Return batches of input and target\n",
    "    :param int_text: Text with the words replaced by their ids\n",
    "    :param batch_size: The size of batch\n",
    "    :param seq_length: The length of sequence\n",
    "    :return: Batches as a Numpy array\n",
    "    \"\"\"\n",
    "    # TODO: Implement Function\n",
    "    batch_chars=batch_size*seq_length #number of characters in a batch\n",
    "    num_batches=len(int_text)//(batch_chars)\n",
    "    int_text=int_text[:num_batches*batch_chars]\n",
    "    int_text=np.reshape(np.array(int_text),(batch_size,-1))\n",
    "\n",
    "    last_column=int_text[:,0].copy() #first column of int_text will become the last column\n",
    "    last_column=np.roll(last_column,-1)[:,None] #shift each element by one place to left\n",
    "\n",
    "    int_text=np.concatenate((int_text,last_column),axis=1) #trick to simplify things later\n",
    "    \n",
    "    all_batches=np.zeros((num_batches,2,batch_size,seq_length),dtype=np.int32)\n",
    "    \n",
    "    for idx in range(0,num_batches*seq_length,seq_length):\n",
    "        this_batch_x=int_text[:,idx:idx+seq_length]\n",
    "        this_batch_y=int_text[:,idx+1:idx+seq_length+1]\n",
    "        all_batches[idx//seq_length,:,:,:]=np.array([this_batch_x,this_batch_y])\n",
    "    return all_batches\n",
    "\n",
    "\n",
    "\"\"\"\n",
    "DON'T MODIFY ANYTHING IN THIS CELL THAT IS BELOW THIS LINE\n",
    "\"\"\"\n",
    "tests.test_get_batches(get_batches)"
   ]
  },
  {
   "cell_type": "markdown",
   "metadata": {},
   "source": [
    "## Neural Network Training\n",
    "### Hyperparameters\n",
    "Tune the following parameters:\n",
    "\n",
    "- Set `num_epochs` to the number of epochs.\n",
    "- Set `batch_size` to the batch size.\n",
    "- Set `rnn_size` to the size of the RNNs.\n",
    "- Set `embed_dim` to the size of the embedding.\n",
    "- Set `seq_length` to the length of sequence.\n",
    "- Set `learning_rate` to the learning rate.\n",
    "- Set `show_every_n_batches` to the number of batches the neural network should print progress."
   ]
  },
  {
   "cell_type": "code",
   "execution_count": 14,
   "metadata": {
    "collapsed": true
   },
   "outputs": [],
   "source": [
    "# Number of Epochs\n",
    "num_epochs = 20\n",
    "# Batch Size\n",
    "batch_size = 128\n",
    "# RNN Size\n",
    "rnn_size = 128\n",
    "# Embedding Dimension Size\n",
    "embed_dim = 256\n",
    "# Sequence Length\n",
    "seq_length = 16\n",
    "# Learning Rate\n",
    "learning_rate = [1e-3/(2**(epoch//3)) for epoch in range(num_epochs)] #halve lr every 3 epochs\n",
    "# Show stats for every n number of batches\n",
    "show_every_n_batches = 5\n",
    "\n",
    "\"\"\"\n",
    "DON'T MODIFY ANYTHING IN THIS CELL THAT IS BELOW THIS LINE\n",
    "\"\"\"\n",
    "save_dir = './save'"
   ]
  },
  {
   "cell_type": "markdown",
   "metadata": {},
   "source": [
    "### Build the Graph\n",
    "Build the graph using the neural network you implemented."
   ]
  },
  {
   "cell_type": "code",
   "execution_count": 15,
   "metadata": {},
   "outputs": [
    {
     "name": "stdout",
     "output_type": "stream",
     "text": [
      "Tensor(\"Shape_1:0\", shape=(4,), dtype=int32)\n"
     ]
    }
   ],
   "source": [
    "\"\"\"\n",
    "DON'T MODIFY ANYTHING IN THIS CELL\n",
    "\"\"\"\n",
    "from tensorflow.contrib import seq2seq\n",
    "\n",
    "train_graph = tf.Graph()\n",
    "with train_graph.as_default():\n",
    "    vocab_size = len(int_to_vocab)\n",
    "    input_text, targets, lr = get_inputs()\n",
    "    input_data_shape = tf.shape(input_text)\n",
    "    cell, initial_state = get_init_cell(input_data_shape[0], rnn_size)\n",
    "    logits, final_state = build_nn(cell, rnn_size, input_text, vocab_size, embed_dim)\n",
    "\n",
    "    # Probabilities for generating words\n",
    "    probs = tf.nn.softmax(logits, name='probs')\n",
    "\n",
    "    # Loss function\n",
    "    cost = seq2seq.sequence_loss(\n",
    "        logits,\n",
    "        targets,\n",
    "        tf.ones([input_data_shape[0], input_data_shape[1]]))\n",
    "\n",
    "    # Optimizer\n",
    "    optimizer = tf.train.AdamOptimizer(lr)\n",
    "\n",
    "    # Gradient Clipping\n",
    "    gradients = optimizer.compute_gradients(cost)\n",
    "    capped_gradients = [(tf.clip_by_value(grad, -1., 1.), var) for grad, var in gradients if grad is not None]\n",
    "    train_op = optimizer.apply_gradients(capped_gradients)"
   ]
  },
  {
   "cell_type": "markdown",
   "metadata": {},
   "source": [
    "## Train\n",
    "Train the neural network on the preprocessed data.  If you have a hard time getting a good loss, check the [forums](https://discussions.udacity.com/) to see if anyone is having the same problem."
   ]
  },
  {
   "cell_type": "code",
   "execution_count": 16,
   "metadata": {
    "scrolled": true
   },
   "outputs": [
    {
     "name": "stdout",
     "output_type": "stream",
     "text": [
      "Epoch   0 Batch    0/33   train_loss = 8.821\n",
      "Epoch   0 Batch    5/33   train_loss = 8.734\n",
      "Epoch   0 Batch   10/33   train_loss = 8.476\n",
      "Epoch   0 Batch   15/33   train_loss = 7.872\n",
      "Epoch   0 Batch   20/33   train_loss = 7.203\n",
      "Epoch   0 Batch   25/33   train_loss = 6.721\n",
      "Epoch   0 Batch   30/33   train_loss = 6.438\n",
      "Epoch   1 Batch    2/33   train_loss = 6.122\n",
      "Epoch   1 Batch    7/33   train_loss = 6.224\n",
      "Epoch   1 Batch   12/33   train_loss = 6.221\n",
      "Epoch   1 Batch   17/33   train_loss = 6.170\n",
      "Epoch   1 Batch   22/33   train_loss = 6.211\n",
      "Epoch   1 Batch   27/33   train_loss = 6.087\n",
      "Epoch   1 Batch   32/33   train_loss = 6.210\n",
      "Epoch   2 Batch    4/33   train_loss = 6.007\n",
      "Epoch   2 Batch    9/33   train_loss = 5.976\n",
      "Epoch   2 Batch   14/33   train_loss = 6.110\n",
      "Epoch   2 Batch   19/33   train_loss = 5.988\n",
      "Epoch   2 Batch   24/33   train_loss = 5.969\n",
      "Epoch   2 Batch   29/33   train_loss = 5.981\n",
      "Epoch   3 Batch    1/33   train_loss = 5.787\n",
      "Epoch   3 Batch    6/33   train_loss = 5.877\n",
      "Epoch   3 Batch   11/33   train_loss = 5.768\n",
      "Epoch   3 Batch   16/33   train_loss = 5.833\n",
      "Epoch   3 Batch   21/33   train_loss = 5.905\n",
      "Epoch   3 Batch   26/33   train_loss = 5.818\n",
      "Epoch   3 Batch   31/33   train_loss = 5.797\n",
      "Epoch   4 Batch    3/33   train_loss = 5.771\n",
      "Epoch   4 Batch    8/33   train_loss = 5.803\n",
      "Epoch   4 Batch   13/33   train_loss = 5.797\n",
      "Epoch   4 Batch   18/33   train_loss = 5.759\n",
      "Epoch   4 Batch   23/33   train_loss = 5.832\n",
      "Epoch   4 Batch   28/33   train_loss = 5.763\n",
      "Epoch   5 Batch    0/33   train_loss = 5.639\n",
      "Epoch   5 Batch    5/33   train_loss = 5.779\n",
      "Epoch   5 Batch   10/33   train_loss = 5.803\n",
      "Epoch   5 Batch   15/33   train_loss = 5.692\n",
      "Epoch   5 Batch   20/33   train_loss = 5.685\n",
      "Epoch   5 Batch   25/33   train_loss = 5.671\n",
      "Epoch   5 Batch   30/33   train_loss = 5.674\n",
      "Epoch   6 Batch    2/33   train_loss = 5.529\n",
      "Epoch   6 Batch    7/33   train_loss = 5.666\n",
      "Epoch   6 Batch   12/33   train_loss = 5.651\n",
      "Epoch   6 Batch   17/33   train_loss = 5.603\n",
      "Epoch   6 Batch   22/33   train_loss = 5.730\n",
      "Epoch   6 Batch   27/33   train_loss = 5.626\n",
      "Epoch   6 Batch   32/33   train_loss = 5.729\n",
      "Epoch   7 Batch    4/33   train_loss = 5.550\n",
      "Epoch   7 Batch    9/33   train_loss = 5.517\n",
      "Epoch   7 Batch   14/33   train_loss = 5.672\n",
      "Epoch   7 Batch   19/33   train_loss = 5.564\n",
      "Epoch   7 Batch   24/33   train_loss = 5.576\n",
      "Epoch   7 Batch   29/33   train_loss = 5.587\n",
      "Epoch   8 Batch    1/33   train_loss = 5.418\n",
      "Epoch   8 Batch    6/33   train_loss = 5.550\n",
      "Epoch   8 Batch   11/33   train_loss = 5.430\n",
      "Epoch   8 Batch   16/33   train_loss = 5.527\n",
      "Epoch   8 Batch   21/33   train_loss = 5.604\n",
      "Epoch   8 Batch   26/33   train_loss = 5.526\n",
      "Epoch   8 Batch   31/33   train_loss = 5.516\n",
      "Epoch   9 Batch    3/33   train_loss = 5.481\n",
      "Epoch   9 Batch    8/33   train_loss = 5.545\n",
      "Epoch   9 Batch   13/33   train_loss = 5.545\n",
      "Epoch   9 Batch   18/33   train_loss = 5.518\n",
      "Epoch   9 Batch   23/33   train_loss = 5.605\n",
      "Epoch   9 Batch   28/33   train_loss = 5.544\n",
      "Epoch  10 Batch    0/33   train_loss = 5.429\n",
      "Epoch  10 Batch    5/33   train_loss = 5.580\n",
      "Epoch  10 Batch   10/33   train_loss = 5.607\n",
      "Epoch  10 Batch   15/33   train_loss = 5.509\n",
      "Epoch  10 Batch   20/33   train_loss = 5.511\n",
      "Epoch  10 Batch   25/33   train_loss = 5.496\n",
      "Epoch  10 Batch   30/33   train_loss = 5.521\n",
      "Epoch  11 Batch    2/33   train_loss = 5.382\n",
      "Epoch  11 Batch    7/33   train_loss = 5.533\n",
      "Epoch  11 Batch   12/33   train_loss = 5.514\n",
      "Epoch  11 Batch   17/33   train_loss = 5.467\n",
      "Epoch  11 Batch   22/33   train_loss = 5.605\n",
      "Epoch  11 Batch   27/33   train_loss = 5.504\n",
      "Epoch  11 Batch   32/33   train_loss = 5.608\n",
      "Epoch  12 Batch    4/33   train_loss = 5.425\n",
      "Epoch  12 Batch    9/33   train_loss = 5.398\n",
      "Epoch  12 Batch   14/33   train_loss = 5.556\n",
      "Epoch  12 Batch   19/33   train_loss = 5.448\n",
      "Epoch  12 Batch   24/33   train_loss = 5.468\n",
      "Epoch  12 Batch   29/33   train_loss = 5.483\n",
      "Epoch  13 Batch    1/33   train_loss = 5.320\n",
      "Epoch  13 Batch    6/33   train_loss = 5.457\n",
      "Epoch  13 Batch   11/33   train_loss = 5.340\n",
      "Epoch  13 Batch   16/33   train_loss = 5.440\n",
      "Epoch  13 Batch   21/33   train_loss = 5.520\n",
      "Epoch  13 Batch   26/33   train_loss = 5.448\n",
      "Epoch  13 Batch   31/33   train_loss = 5.446\n",
      "Epoch  14 Batch    3/33   train_loss = 5.407\n",
      "Epoch  14 Batch    8/33   train_loss = 5.481\n",
      "Epoch  14 Batch   13/33   train_loss = 5.482\n",
      "Epoch  14 Batch   18/33   train_loss = 5.457\n",
      "Epoch  14 Batch   23/33   train_loss = 5.545\n",
      "Epoch  14 Batch   28/33   train_loss = 5.484\n",
      "Epoch  15 Batch    0/33   train_loss = 5.369\n",
      "Epoch  15 Batch    5/33   train_loss = 5.520\n",
      "Epoch  15 Batch   10/33   train_loss = 5.549\n",
      "Epoch  15 Batch   15/33   train_loss = 5.455\n",
      "Epoch  15 Batch   20/33   train_loss = 5.457\n",
      "Epoch  15 Batch   25/33   train_loss = 5.442\n",
      "Epoch  15 Batch   30/33   train_loss = 5.473\n",
      "Epoch  16 Batch    2/33   train_loss = 5.335\n",
      "Epoch  16 Batch    7/33   train_loss = 5.490\n",
      "Epoch  16 Batch   12/33   train_loss = 5.470\n",
      "Epoch  16 Batch   17/33   train_loss = 5.424\n",
      "Epoch  16 Batch   22/33   train_loss = 5.565\n",
      "Epoch  16 Batch   27/33   train_loss = 5.467\n",
      "Epoch  16 Batch   32/33   train_loss = 5.574\n",
      "Epoch  17 Batch    4/33   train_loss = 5.391\n",
      "Epoch  17 Batch    9/33   train_loss = 5.365\n",
      "Epoch  17 Batch   14/33   train_loss = 5.522\n",
      "Epoch  17 Batch   19/33   train_loss = 5.415\n",
      "Epoch  17 Batch   24/33   train_loss = 5.436\n",
      "Epoch  17 Batch   29/33   train_loss = 5.451\n",
      "Epoch  18 Batch    1/33   train_loss = 5.289\n",
      "Epoch  18 Batch    6/33   train_loss = 5.427\n",
      "Epoch  18 Batch   11/33   train_loss = 5.312\n",
      "Epoch  18 Batch   16/33   train_loss = 5.412\n",
      "Epoch  18 Batch   21/33   train_loss = 5.493\n",
      "Epoch  18 Batch   26/33   train_loss = 5.422\n",
      "Epoch  18 Batch   31/33   train_loss = 5.422\n",
      "Epoch  19 Batch    3/33   train_loss = 5.382\n",
      "Epoch  19 Batch    8/33   train_loss = 5.459\n",
      "Epoch  19 Batch   13/33   train_loss = 5.461\n",
      "Epoch  19 Batch   18/33   train_loss = 5.437\n",
      "Epoch  19 Batch   23/33   train_loss = 5.525\n",
      "Epoch  19 Batch   28/33   train_loss = 5.465\n",
      "Model Trained and Saved\n"
     ]
    }
   ],
   "source": [
    "\"\"\"\n",
    "DON'T MODIFY ANYTHING IN THIS CELL\n",
    "\"\"\"\n",
    "batches = get_batches(int_text, batch_size, seq_length)\n",
    "\n",
    "training_losses=[]\n",
    "\n",
    "with tf.Session(graph=train_graph) as sess:\n",
    "    sess.run(tf.global_variables_initializer())\n",
    "\n",
    "    for epoch_i in range(num_epochs):\n",
    "        state = sess.run(initial_state, {input_text: batches[0][0]})\n",
    "\n",
    "        for batch_i, (x, y) in enumerate(batches):\n",
    "            feed = {\n",
    "                input_text: x,\n",
    "                targets: y,\n",
    "                initial_state: state,\n",
    "                lr: learning_rate[epoch_i]}\n",
    "            train_loss, state, _ = sess.run([cost, final_state, train_op], feed)\n",
    "            training_losses.append(train_loss)\n",
    "            # Show every <show_every_n_batches> batches\n",
    "            if (epoch_i * len(batches) + batch_i) % show_every_n_batches == 0:\n",
    "                print('Epoch {:>3} Batch {:>4}/{}   train_loss = {:.3f}'.format(\n",
    "                    epoch_i,\n",
    "                    batch_i,\n",
    "                    len(batches),\n",
    "                    train_loss))\n",
    "\n",
    "    # Save Model\n",
    "    saver = tf.train.Saver()\n",
    "    saver.save(sess, save_dir)\n",
    "    print('Model Trained and Saved')"
   ]
  },
  {
   "cell_type": "code",
   "execution_count": 17,
   "metadata": {},
   "outputs": [
    {
     "data": {
      "text/html": [
       "\n",
       "    <div class=\"bk-root\">\n",
       "        <a href=\"http://bokeh.pydata.org\" target=\"_blank\" class=\"bk-logo bk-logo-small bk-logo-notebook\"></a>\n",
       "        <span id=\"5188c89f-76eb-4206-bc84-9331fa3a17ce\">Loading BokehJS ...</span>\n",
       "    </div>"
      ]
     },
     "metadata": {},
     "output_type": "display_data"
    },
    {
     "data": {
      "application/javascript": [
       "\n",
       "(function(global) {\n",
       "  function now() {\n",
       "    return new Date();\n",
       "  }\n",
       "\n",
       "  var force = true;\n",
       "\n",
       "  if (typeof (window._bokeh_onload_callbacks) === \"undefined\" || force === true) {\n",
       "    window._bokeh_onload_callbacks = [];\n",
       "    window._bokeh_is_loading = undefined;\n",
       "  }\n",
       "\n",
       "\n",
       "  \n",
       "  if (typeof (window._bokeh_timeout) === \"undefined\" || force === true) {\n",
       "    window._bokeh_timeout = Date.now() + 5000;\n",
       "    window._bokeh_failed_load = false;\n",
       "  }\n",
       "\n",
       "  var NB_LOAD_WARNING = {'data': {'text/html':\n",
       "     \"<div style='background-color: #fdd'>\\n\"+\n",
       "     \"<p>\\n\"+\n",
       "     \"BokehJS does not appear to have successfully loaded. If loading BokehJS from CDN, this \\n\"+\n",
       "     \"may be due to a slow or bad network connection. Possible fixes:\\n\"+\n",
       "     \"</p>\\n\"+\n",
       "     \"<ul>\\n\"+\n",
       "     \"<li>re-rerun `output_notebook()` to attempt to load from CDN again, or</li>\\n\"+\n",
       "     \"<li>use INLINE resources instead, as so:</li>\\n\"+\n",
       "     \"</ul>\\n\"+\n",
       "     \"<code>\\n\"+\n",
       "     \"from bokeh.resources import INLINE\\n\"+\n",
       "     \"output_notebook(resources=INLINE)\\n\"+\n",
       "     \"</code>\\n\"+\n",
       "     \"</div>\"}};\n",
       "\n",
       "  function display_loaded() {\n",
       "    if (window.Bokeh !== undefined) {\n",
       "      var el = document.getElementById(\"5188c89f-76eb-4206-bc84-9331fa3a17ce\");\n",
       "      el.textContent = \"BokehJS \" + Bokeh.version + \" successfully loaded.\";\n",
       "    } else if (Date.now() < window._bokeh_timeout) {\n",
       "      setTimeout(display_loaded, 100)\n",
       "    }\n",
       "  }\n",
       "\n",
       "  function run_callbacks() {\n",
       "    try {\n",
       "      window._bokeh_onload_callbacks.forEach(function(callback) { callback() });\n",
       "    }\n",
       "    finally {\n",
       "      delete window._bokeh_onload_callbacks\n",
       "    }\n",
       "    console.info(\"Bokeh: all callbacks have finished\");\n",
       "  }\n",
       "\n",
       "  function load_libs(js_urls, callback) {\n",
       "    window._bokeh_onload_callbacks.push(callback);\n",
       "    if (window._bokeh_is_loading > 0) {\n",
       "      console.log(\"Bokeh: BokehJS is being loaded, scheduling callback at\", now());\n",
       "      return null;\n",
       "    }\n",
       "    if (js_urls == null || js_urls.length === 0) {\n",
       "      run_callbacks();\n",
       "      return null;\n",
       "    }\n",
       "    console.log(\"Bokeh: BokehJS not loaded, scheduling load and callback at\", now());\n",
       "    window._bokeh_is_loading = js_urls.length;\n",
       "    for (var i = 0; i < js_urls.length; i++) {\n",
       "      var url = js_urls[i];\n",
       "      var s = document.createElement('script');\n",
       "      s.src = url;\n",
       "      s.async = false;\n",
       "      s.onreadystatechange = s.onload = function() {\n",
       "        window._bokeh_is_loading--;\n",
       "        if (window._bokeh_is_loading === 0) {\n",
       "          console.log(\"Bokeh: all BokehJS libraries loaded\");\n",
       "          run_callbacks()\n",
       "        }\n",
       "      };\n",
       "      s.onerror = function() {\n",
       "        console.warn(\"failed to load library \" + url);\n",
       "      };\n",
       "      console.log(\"Bokeh: injecting script tag for BokehJS library: \", url);\n",
       "      document.getElementsByTagName(\"head\")[0].appendChild(s);\n",
       "    }\n",
       "  };var element = document.getElementById(\"5188c89f-76eb-4206-bc84-9331fa3a17ce\");\n",
       "  if (element == null) {\n",
       "    console.log(\"Bokeh: ERROR: autoload.js configured with elementid '5188c89f-76eb-4206-bc84-9331fa3a17ce' but no matching script tag was found. \")\n",
       "    return false;\n",
       "  }\n",
       "\n",
       "  var js_urls = [\"https://cdn.pydata.org/bokeh/release/bokeh-0.12.6.min.js\", \"https://cdn.pydata.org/bokeh/release/bokeh-widgets-0.12.6.min.js\"];\n",
       "\n",
       "  var inline_js = [\n",
       "    function(Bokeh) {\n",
       "      Bokeh.set_log_level(\"info\");\n",
       "    },\n",
       "    \n",
       "    function(Bokeh) {\n",
       "      \n",
       "    },\n",
       "    \n",
       "    function(Bokeh) {\n",
       "      \n",
       "      document.getElementById(\"5188c89f-76eb-4206-bc84-9331fa3a17ce\").textContent = \"BokehJS is loading...\";\n",
       "    },\n",
       "    function(Bokeh) {\n",
       "      console.log(\"Bokeh: injecting CSS: https://cdn.pydata.org/bokeh/release/bokeh-0.12.6.min.css\");\n",
       "      Bokeh.embed.inject_css(\"https://cdn.pydata.org/bokeh/release/bokeh-0.12.6.min.css\");\n",
       "      console.log(\"Bokeh: injecting CSS: https://cdn.pydata.org/bokeh/release/bokeh-widgets-0.12.6.min.css\");\n",
       "      Bokeh.embed.inject_css(\"https://cdn.pydata.org/bokeh/release/bokeh-widgets-0.12.6.min.css\");\n",
       "    }\n",
       "  ];\n",
       "\n",
       "  function run_inline_js() {\n",
       "    \n",
       "    if ((window.Bokeh !== undefined) || (force === true)) {\n",
       "      for (var i = 0; i < inline_js.length; i++) {\n",
       "        inline_js[i](window.Bokeh);\n",
       "      }if (force === true) {\n",
       "        display_loaded();\n",
       "      }} else if (Date.now() < window._bokeh_timeout) {\n",
       "      setTimeout(run_inline_js, 100);\n",
       "    } else if (!window._bokeh_failed_load) {\n",
       "      console.log(\"Bokeh: BokehJS failed to load within specified timeout.\");\n",
       "      window._bokeh_failed_load = true;\n",
       "    } else if (force !== true) {\n",
       "      var cell = $(document.getElementById(\"5188c89f-76eb-4206-bc84-9331fa3a17ce\")).parents('.cell').data().cell;\n",
       "      cell.output_area.append_execute_result(NB_LOAD_WARNING)\n",
       "    }\n",
       "\n",
       "  }\n",
       "\n",
       "  if (window._bokeh_is_loading === 0) {\n",
       "    console.log(\"Bokeh: BokehJS loaded, going straight to plotting\");\n",
       "    run_inline_js();\n",
       "  } else {\n",
       "    load_libs(js_urls, function() {\n",
       "      console.log(\"Bokeh: BokehJS plotting callback run at\", now());\n",
       "      run_inline_js();\n",
       "    });\n",
       "  }\n",
       "}(this));"
      ]
     },
     "metadata": {},
     "output_type": "display_data"
    },
    {
     "data": {
      "text/html": [
       "\n",
       "\n",
       "    <div class=\"bk-root\">\n",
       "        <div class=\"bk-plotdiv\" id=\"ce9aa152-6932-4df2-81bf-820293dcef74\"></div>\n",
       "    </div>\n",
       "<script type=\"text/javascript\">\n",
       "  \n",
       "  (function(global) {\n",
       "    function now() {\n",
       "      return new Date();\n",
       "    }\n",
       "  \n",
       "    var force = false;\n",
       "  \n",
       "    if (typeof (window._bokeh_onload_callbacks) === \"undefined\" || force === true) {\n",
       "      window._bokeh_onload_callbacks = [];\n",
       "      window._bokeh_is_loading = undefined;\n",
       "    }\n",
       "  \n",
       "  \n",
       "    \n",
       "    if (typeof (window._bokeh_timeout) === \"undefined\" || force === true) {\n",
       "      window._bokeh_timeout = Date.now() + 0;\n",
       "      window._bokeh_failed_load = false;\n",
       "    }\n",
       "  \n",
       "    var NB_LOAD_WARNING = {'data': {'text/html':\n",
       "       \"<div style='background-color: #fdd'>\\n\"+\n",
       "       \"<p>\\n\"+\n",
       "       \"BokehJS does not appear to have successfully loaded. If loading BokehJS from CDN, this \\n\"+\n",
       "       \"may be due to a slow or bad network connection. Possible fixes:\\n\"+\n",
       "       \"</p>\\n\"+\n",
       "       \"<ul>\\n\"+\n",
       "       \"<li>re-rerun `output_notebook()` to attempt to load from CDN again, or</li>\\n\"+\n",
       "       \"<li>use INLINE resources instead, as so:</li>\\n\"+\n",
       "       \"</ul>\\n\"+\n",
       "       \"<code>\\n\"+\n",
       "       \"from bokeh.resources import INLINE\\n\"+\n",
       "       \"output_notebook(resources=INLINE)\\n\"+\n",
       "       \"</code>\\n\"+\n",
       "       \"</div>\"}};\n",
       "  \n",
       "    function display_loaded() {\n",
       "      if (window.Bokeh !== undefined) {\n",
       "        var el = document.getElementById(\"ce9aa152-6932-4df2-81bf-820293dcef74\");\n",
       "        el.textContent = \"BokehJS \" + Bokeh.version + \" successfully loaded.\";\n",
       "      } else if (Date.now() < window._bokeh_timeout) {\n",
       "        setTimeout(display_loaded, 100)\n",
       "      }\n",
       "    }\n",
       "  \n",
       "    function run_callbacks() {\n",
       "      try {\n",
       "        window._bokeh_onload_callbacks.forEach(function(callback) { callback() });\n",
       "      }\n",
       "      finally {\n",
       "        delete window._bokeh_onload_callbacks\n",
       "      }\n",
       "      console.info(\"Bokeh: all callbacks have finished\");\n",
       "    }\n",
       "  \n",
       "    function load_libs(js_urls, callback) {\n",
       "      window._bokeh_onload_callbacks.push(callback);\n",
       "      if (window._bokeh_is_loading > 0) {\n",
       "        console.log(\"Bokeh: BokehJS is being loaded, scheduling callback at\", now());\n",
       "        return null;\n",
       "      }\n",
       "      if (js_urls == null || js_urls.length === 0) {\n",
       "        run_callbacks();\n",
       "        return null;\n",
       "      }\n",
       "      console.log(\"Bokeh: BokehJS not loaded, scheduling load and callback at\", now());\n",
       "      window._bokeh_is_loading = js_urls.length;\n",
       "      for (var i = 0; i < js_urls.length; i++) {\n",
       "        var url = js_urls[i];\n",
       "        var s = document.createElement('script');\n",
       "        s.src = url;\n",
       "        s.async = false;\n",
       "        s.onreadystatechange = s.onload = function() {\n",
       "          window._bokeh_is_loading--;\n",
       "          if (window._bokeh_is_loading === 0) {\n",
       "            console.log(\"Bokeh: all BokehJS libraries loaded\");\n",
       "            run_callbacks()\n",
       "          }\n",
       "        };\n",
       "        s.onerror = function() {\n",
       "          console.warn(\"failed to load library \" + url);\n",
       "        };\n",
       "        console.log(\"Bokeh: injecting script tag for BokehJS library: \", url);\n",
       "        document.getElementsByTagName(\"head\")[0].appendChild(s);\n",
       "      }\n",
       "    };var element = document.getElementById(\"ce9aa152-6932-4df2-81bf-820293dcef74\");\n",
       "    if (element == null) {\n",
       "      console.log(\"Bokeh: ERROR: autoload.js configured with elementid 'ce9aa152-6932-4df2-81bf-820293dcef74' but no matching script tag was found. \")\n",
       "      return false;\n",
       "    }\n",
       "  \n",
       "    var js_urls = [];\n",
       "  \n",
       "    var inline_js = [\n",
       "      function(Bokeh) {\n",
       "        (function() {\n",
       "          var fn = function() {\n",
       "            var docs_json = {\"050afb04-e566-41c9-8b04-393c40d3321c\":{\"roots\":{\"references\":[{\"attributes\":{\"line_color\":{\"value\":\"red\"},\"x\":{\"field\":\"x\"},\"y\":{\"field\":\"y\"}},\"id\":\"82f8bcfa-c920-4f4d-944e-21d6305accbf\",\"type\":\"Line\"},{\"attributes\":{\"below\":[{\"id\":\"b3c13f2f-4b74-486d-bb6b-25c80dcd3eb4\",\"type\":\"LinearAxis\"}],\"left\":[{\"id\":\"2fc45a45-7699-42b7-98ec-b968450e81e2\",\"type\":\"LinearAxis\"}],\"plot_height\":300,\"plot_width\":500,\"renderers\":[{\"id\":\"b3c13f2f-4b74-486d-bb6b-25c80dcd3eb4\",\"type\":\"LinearAxis\"},{\"id\":\"c82bc6ff-4562-4e09-8494-b8ec2f5ab899\",\"type\":\"Grid\"},{\"id\":\"2fc45a45-7699-42b7-98ec-b968450e81e2\",\"type\":\"LinearAxis\"},{\"id\":\"e0548aec-4f61-4d5e-b331-9a9ffd7967ad\",\"type\":\"Grid\"},{\"id\":\"33d40820-6cda-4e4b-b03b-1026e93055f9\",\"type\":\"BoxAnnotation\"},{\"id\":\"e77f55bb-0521-4141-aeec-99b8b07af7ea\",\"type\":\"GlyphRenderer\"}],\"title\":{\"id\":\"0cbe25ce-a9cd-4c61-810e-2d2fe5f0fb7a\",\"type\":\"Title\"},\"tool_events\":{\"id\":\"a469ba17-1a8b-4fdb-b3b6-9a1c26b7541e\",\"type\":\"ToolEvents\"},\"toolbar\":{\"id\":\"47140826-a26f-4f47-ac49-c65468ef1369\",\"type\":\"Toolbar\"},\"x_range\":{\"id\":\"5ab58b10-0c9e-499a-a8a5-e8f9f58dcf70\",\"type\":\"DataRange1d\"},\"x_scale\":{\"id\":\"2dc6f843-1c72-49a6-99b5-2b92efe1b578\",\"type\":\"LinearScale\"},\"y_range\":{\"id\":\"bae627e0-dc28-4ef3-8ba2-422031ba04d7\",\"type\":\"DataRange1d\"},\"y_scale\":{\"id\":\"0652efb4-1b0f-4225-af88-5e37e320a83a\",\"type\":\"LinearScale\"}},\"id\":\"2770d2c3-ea6f-450e-a135-74db528f2efe\",\"subtype\":\"Figure\",\"type\":\"Plot\"},{\"attributes\":{\"line_alpha\":{\"value\":0.1},\"line_color\":{\"value\":\"#1f77b4\"},\"x\":{\"field\":\"x\"},\"y\":{\"field\":\"y\"}},\"id\":\"458537f6-0264-4043-8e09-d08b0d175762\",\"type\":\"Line\"},{\"attributes\":{},\"id\":\"2dc6f843-1c72-49a6-99b5-2b92efe1b578\",\"type\":\"LinearScale\"},{\"attributes\":{\"active_drag\":\"auto\",\"active_inspect\":\"auto\",\"active_scroll\":\"auto\",\"active_tap\":\"auto\",\"tools\":[{\"id\":\"2e6803c4-1a96-483a-a7cd-47b779aa7198\",\"type\":\"PanTool\"},{\"id\":\"1926e63f-be17-4484-9c17-e8752c9c22f4\",\"type\":\"WheelZoomTool\"},{\"id\":\"74d2149f-1efd-4ce0-85ca-b82413587ce0\",\"type\":\"BoxZoomTool\"},{\"id\":\"f361555f-0b68-4152-a807-5ba1dc7f0dbd\",\"type\":\"SaveTool\"},{\"id\":\"488d259e-3a1d-44fe-8a16-a1c16264d13a\",\"type\":\"ResetTool\"},{\"id\":\"09a84af9-64c8-4b7c-b57a-b5ba81578000\",\"type\":\"HelpTool\"}]},\"id\":\"47140826-a26f-4f47-ac49-c65468ef1369\",\"type\":\"Toolbar\"},{\"attributes\":{\"callback\":null},\"id\":\"bae627e0-dc28-4ef3-8ba2-422031ba04d7\",\"type\":\"DataRange1d\"},{\"attributes\":{},\"id\":\"0652efb4-1b0f-4225-af88-5e37e320a83a\",\"type\":\"LinearScale\"},{\"attributes\":{\"plot\":{\"id\":\"2770d2c3-ea6f-450e-a135-74db528f2efe\",\"subtype\":\"Figure\",\"type\":\"Plot\"},\"ticker\":{\"id\":\"8655cd20-7f74-4427-a213-addaf6a392fd\",\"type\":\"BasicTicker\"}},\"id\":\"c82bc6ff-4562-4e09-8494-b8ec2f5ab899\",\"type\":\"Grid\"},{\"attributes\":{},\"id\":\"5bb07294-3620-4f56-9028-333e32e92cc6\",\"type\":\"BasicTickFormatter\"},{\"attributes\":{\"axis_label\":\"Training step\",\"formatter\":{\"id\":\"08994942-ac13-4b7f-9d29-8fbccdc2409a\",\"type\":\"BasicTickFormatter\"},\"plot\":{\"id\":\"2770d2c3-ea6f-450e-a135-74db528f2efe\",\"subtype\":\"Figure\",\"type\":\"Plot\"},\"ticker\":{\"id\":\"8655cd20-7f74-4427-a213-addaf6a392fd\",\"type\":\"BasicTicker\"}},\"id\":\"b3c13f2f-4b74-486d-bb6b-25c80dcd3eb4\",\"type\":\"LinearAxis\"},{\"attributes\":{},\"id\":\"8655cd20-7f74-4427-a213-addaf6a392fd\",\"type\":\"BasicTicker\"},{\"attributes\":{\"axis_label\":\"Training loss\",\"formatter\":{\"id\":\"5bb07294-3620-4f56-9028-333e32e92cc6\",\"type\":\"BasicTickFormatter\"},\"plot\":{\"id\":\"2770d2c3-ea6f-450e-a135-74db528f2efe\",\"subtype\":\"Figure\",\"type\":\"Plot\"},\"ticker\":{\"id\":\"1b740183-44f3-4cb8-9bab-24caf732fb07\",\"type\":\"BasicTicker\"}},\"id\":\"2fc45a45-7699-42b7-98ec-b968450e81e2\",\"type\":\"LinearAxis\"},{\"attributes\":{},\"id\":\"1b740183-44f3-4cb8-9bab-24caf732fb07\",\"type\":\"BasicTicker\"},{\"attributes\":{\"dimension\":1,\"plot\":{\"id\":\"2770d2c3-ea6f-450e-a135-74db528f2efe\",\"subtype\":\"Figure\",\"type\":\"Plot\"},\"ticker\":{\"id\":\"1b740183-44f3-4cb8-9bab-24caf732fb07\",\"type\":\"BasicTicker\"}},\"id\":\"e0548aec-4f61-4d5e-b331-9a9ffd7967ad\",\"type\":\"Grid\"},{\"attributes\":{\"bottom_units\":\"screen\",\"fill_alpha\":{\"value\":0.5},\"fill_color\":{\"value\":\"lightgrey\"},\"left_units\":\"screen\",\"level\":\"overlay\",\"line_alpha\":{\"value\":1.0},\"line_color\":{\"value\":\"black\"},\"line_dash\":[4,4],\"line_width\":{\"value\":2},\"plot\":null,\"render_mode\":\"css\",\"right_units\":\"screen\",\"top_units\":\"screen\"},\"id\":\"33d40820-6cda-4e4b-b03b-1026e93055f9\",\"type\":\"BoxAnnotation\"},{\"attributes\":{},\"id\":\"a469ba17-1a8b-4fdb-b3b6-9a1c26b7541e\",\"type\":\"ToolEvents\"},{\"attributes\":{\"plot\":{\"id\":\"2770d2c3-ea6f-450e-a135-74db528f2efe\",\"subtype\":\"Figure\",\"type\":\"Plot\"}},\"id\":\"2e6803c4-1a96-483a-a7cd-47b779aa7198\",\"type\":\"PanTool\"},{\"attributes\":{},\"id\":\"08994942-ac13-4b7f-9d29-8fbccdc2409a\",\"type\":\"BasicTickFormatter\"},{\"attributes\":{\"data_source\":{\"id\":\"74fedbe9-bf8b-4fa4-9b19-05ae2496b630\",\"type\":\"ColumnDataSource\"},\"glyph\":{\"id\":\"82f8bcfa-c920-4f4d-944e-21d6305accbf\",\"type\":\"Line\"},\"hover_glyph\":null,\"muted_glyph\":null,\"nonselection_glyph\":{\"id\":\"458537f6-0264-4043-8e09-d08b0d175762\",\"type\":\"Line\"},\"selection_glyph\":null},\"id\":\"e77f55bb-0521-4141-aeec-99b8b07af7ea\",\"type\":\"GlyphRenderer\"},{\"attributes\":{\"plot\":{\"id\":\"2770d2c3-ea6f-450e-a135-74db528f2efe\",\"subtype\":\"Figure\",\"type\":\"Plot\"}},\"id\":\"1926e63f-be17-4484-9c17-e8752c9c22f4\",\"type\":\"WheelZoomTool\"},{\"attributes\":{\"plot\":null,\"text\":\"\"},\"id\":\"0cbe25ce-a9cd-4c61-810e-2d2fe5f0fb7a\",\"type\":\"Title\"},{\"attributes\":{\"overlay\":{\"id\":\"33d40820-6cda-4e4b-b03b-1026e93055f9\",\"type\":\"BoxAnnotation\"},\"plot\":{\"id\":\"2770d2c3-ea6f-450e-a135-74db528f2efe\",\"subtype\":\"Figure\",\"type\":\"Plot\"}},\"id\":\"74d2149f-1efd-4ce0-85ca-b82413587ce0\",\"type\":\"BoxZoomTool\"},{\"attributes\":{\"callback\":null,\"column_names\":[\"x\",\"y\"],\"data\":{\"x\":[0,1,2,3,4,5,6,7,8,9,10,11,12,13,14,15,16,17,18,19,20,21,22,23,24,25,26,27,28,29,30,31,32,33,34,35,36,37,38,39,40,41,42,43,44,45,46,47,48,49,50,51,52,53,54,55,56,57,58,59,60,61,62,63,64,65,66,67,68,69,70,71,72,73,74,75,76,77,78,79,80,81,82,83,84,85,86,87,88,89,90,91,92,93,94,95,96,97,98,99,100,101,102,103,104,105,106,107,108,109,110,111,112,113,114,115,116,117,118,119,120,121,122,123,124,125,126,127,128,129,130,131,132,133,134,135,136,137,138,139,140,141,142,143,144,145,146,147,148,149,150,151,152,153,154,155,156,157,158,159,160,161,162,163,164,165,166,167,168,169,170,171,172,173,174,175,176,177,178,179,180,181,182,183,184,185,186,187,188,189,190,191,192,193,194,195,196,197,198,199,200,201,202,203,204,205,206,207,208,209,210,211,212,213,214,215,216,217,218,219,220,221,222,223,224,225,226,227,228,229,230,231,232,233,234,235,236,237,238,239,240,241,242,243,244,245,246,247,248,249,250,251,252,253,254,255,256,257,258,259,260,261,262,263,264,265,266,267,268,269,270,271,272,273,274,275,276,277,278,279,280,281,282,283,284,285,286,287,288,289,290,291,292,293,294,295,296,297,298,299,300,301,302,303,304,305,306,307,308,309,310,311,312,313,314,315,316,317,318,319,320,321,322,323,324,325,326,327,328,329,330,331,332,333,334,335,336,337,338,339,340,341,342,343,344,345,346,347,348,349,350,351,352,353,354,355,356,357,358,359,360,361,362,363,364,365,366,367,368,369,370,371,372,373,374,375,376,377,378,379,380,381,382,383,384,385,386,387,388,389,390,391,392,393,394,395,396,397,398,399,400,401,402,403,404,405,406,407,408,409,410,411,412,413,414,415,416,417,418,419,420,421,422,423,424,425,426,427,428,429,430,431,432,433,434,435,436,437,438,439,440,441,442,443,444,445,446,447,448,449,450,451,452,453,454,455,456,457,458,459,460,461,462,463,464,465,466,467,468,469,470,471,472,473,474,475,476,477,478,479,480,481,482,483,484,485,486,487,488,489,490,491,492,493,494,495,496,497,498,499,500,501,502,503,504,505,506,507,508,509,510,511,512,513,514,515,516,517,518,519,520,521,522,523,524,525,526,527,528,529,530,531,532,533,534,535,536,537,538,539,540,541,542,543,544,545,546,547,548,549,550,551,552,553,554,555,556,557,558,559,560,561,562,563,564,565,566,567,568,569,570,571,572,573,574,575,576,577,578,579,580,581,582,583,584,585,586,587,588,589,590,591,592,593,594,595,596,597,598,599,600,601,602,603,604,605,606,607,608,609,610,611,612,613,614,615,616,617,618,619,620,621,622,623,624,625,626,627,628,629,630,631,632,633,634,635,636,637,638,639,640,641,642,643,644,645,646,647,648,649,650,651,652,653,654,655,656,657,658,659],\"y\":[8.820858001708984,8.807256698608398,8.791223526000977,8.776981353759766,8.756134986877441,8.733786582946777,8.697031021118164,8.649971008300781,8.596902847290039,8.526266098022461,8.475531578063965,8.356598854064941,8.277599334716797,8.141046524047852,8.053071022033691,7.871735572814941,7.727713584899902,7.622269630432129,7.481954574584961,7.370944499969482,7.203140735626221,7.1444478034973145,7.041168689727783,6.921903133392334,6.780102252960205,6.720678329467773,6.618502616882324,6.559361457824707,6.511335372924805,6.506209373474121,6.437932014465332,6.36667013168335,6.448627471923828,6.187135696411133,6.138469696044922,6.122309684753418,6.219738960266113,6.161445617675781,6.2707014083862305,6.175607681274414,6.2238264083862305,6.213456153869629,6.134215354919434,6.315524101257324,6.10384464263916,6.220935344696045,6.208676338195801,6.279074668884277,6.180718421936035,6.139429092407227,6.169788360595703,6.143863677978516,6.1360039710998535,6.111923694610596,6.190670490264893,6.2112717628479,6.174139976501465,6.098347187042236,6.119455814361572,6.085127353668213,6.086635589599609,6.101669788360596,6.135313510894775,6.114976406097412,6.063216209411621,6.210312366485596,5.982447147369385,5.94892692565918,5.953658580780029,6.04434061050415,6.006536483764648,6.112060070037842,6.032522201538086,6.072910308837891,6.058632850646973,5.975745677947998,6.15001916885376,5.945126533508301,6.043128967285156,6.04724645614624,6.1102166175842285,6.0194244384765625,5.987663269042969,6.008645057678223,5.999754905700684,5.988135814666748,5.982666969299316,6.052017688751221,6.08013916015625,6.04733943939209,5.968806266784668,5.981820106506348,5.947992324829102,5.958198547363281,5.96518611907959,5.980920791625977,5.964273452758789,5.90667200088501,6.047992706298828,5.829378128051758,5.787436485290527,5.799620628356934,5.8775248527526855,5.854640007019043,5.9582672119140625,5.877198219299316,5.914026260375977,5.896604537963867,5.811718940734863,5.981472969055176,5.767573833465576,5.889776229858398,5.888805389404297,5.9503021240234375,5.863415718078613,5.833016872406006,5.847768306732178,5.847670555114746,5.841367721557617,5.844305515289307,5.905096530914307,5.943785667419434,5.914724349975586,5.835743427276611,5.843501567840576,5.817805290222168,5.838567733764648,5.846625328063965,5.853349685668945,5.847568511962891,5.796628952026367,5.939263343811035,5.727017879486084,5.674521446228027,5.694324016571045,5.771148204803467,5.752804756164551,5.860734462738037,5.780036926269531,5.817734718322754,5.802972316741943,5.714344024658203,5.886458396911621,5.66892147064209,5.801462173461914,5.797226905822754,5.860988140106201,5.772825717926025,5.744068145751953,5.755850791931152,5.759271621704102,5.751341819763184,5.761294364929199,5.818614959716797,5.863132476806641,5.831974983215332,5.749938011169434,5.753608703613281,5.731119155883789,5.754117012023926,5.76347017288208,5.760517597198486,5.7554121017456055,5.707401752471924,5.849822998046875,5.639413833618164,5.5805463790893555,5.60706090927124,5.679927349090576,5.666488170623779,5.778670310974121,5.697693824768066,5.737505912780762,5.720431327819824,5.62803840637207,5.803094863891602,5.580087661743164,5.720541000366211,5.714434623718262,5.778505325317383,5.691577434539795,5.664101600646973,5.6723527908325195,5.6790385246276855,5.667918682098389,5.684881210327148,5.738637924194336,5.788359642028809,5.756495475769043,5.669818878173828,5.670982837677002,5.651041507720947,5.6777143478393555,5.686873435974121,5.676245212554932,5.6743903160095215,5.628345489501953,5.7704925537109375,5.559882164001465,5.497777938842773,5.528863906860352,5.598198890686035,5.589963912963867,5.7044572830200195,5.623590469360352,5.666287899017334,5.647881507873535,5.554630279541016,5.7297563552856445,5.503124237060547,5.650596618652344,5.644476413726807,5.708614349365234,5.623899459838867,5.596307277679443,5.602964401245117,5.614034175872803,5.601018905639648,5.62362003326416,5.674305438995361,5.730060577392578,5.698311805725098,5.611238479614258,5.61204195022583,5.595263957977295,5.626040458679199,5.636136054992676,5.624331474304199,5.6281585693359375,5.584856986999512,5.729341983795166,5.5194549560546875,5.45611572265625,5.488437652587891,5.55665397644043,5.549921989440918,5.6663713455200195,5.585410118103027,5.630305767059326,5.6118974685668945,5.51663875579834,5.692753791809082,5.466351509094238,5.6143574714660645,5.609449863433838,5.67217493057251,5.58839750289917,5.561091423034668,5.566764831542969,5.580043792724609,5.56407356262207,5.589419364929199,5.639165878295898,5.696781635284424,5.664751052856445,5.575652122497559,5.5754008293151855,5.559934139251709,5.591814041137695,5.60115909576416,5.587438583374023,5.59217643737793,5.549753189086914,5.693607330322266,5.4824628829956055,5.418267726898193,5.452099800109863,5.517897129058838,5.513212203979492,5.631099700927734,5.549914360046387,5.597017288208008,5.577449798583984,5.4808502197265625,5.657201290130615,5.4303154945373535,5.579507350921631,5.575606346130371,5.636784553527832,5.554774284362793,5.526603698730469,5.531478404998779,5.546878814697266,5.527613162994385,5.555582046508789,5.604423999786377,5.664050579071045,5.631604194641113,5.540729522705078,5.539364337921143,5.525550842285156,5.558541297912598,5.567203044891357,5.551596641540527,5.557693004608154,5.515602111816406,5.659358024597168,5.447072982788086,5.38232421875,5.4175496101379395,5.481314659118652,5.478298187255859,5.597363471984863,5.516324996948242,5.565550804138184,5.545437812805176,5.448263168334961,5.624462127685547,5.397422790527344,5.547770977020264,5.545167922973633,5.605430603027344,5.524959564208984,5.496291160583496,5.500757694244385,5.518093585968018,5.497391700744629,5.527228832244873,5.575727939605713,5.637060165405273,5.605015277862549,5.514278411865234,5.512796401977539,5.500926971435547,5.535419464111328,5.544490814208984,5.528576850891113,5.53724479675293,5.496158599853516,5.641116142272949,5.429071426391602,5.363746166229248,5.39946174621582,5.4621992111206055,5.4598283767700195,5.5797624588012695,5.49874210357666,5.549047470092773,5.5288615226745605,5.43095064163208,5.607224464416504,5.380583763122559,5.53085470199585,5.52908992767334,5.5882062911987305,5.508711814880371,5.47969913482666,5.484067916870117,5.502435684204102,5.480022430419922,5.510882377624512,5.559176921844482,5.6211090087890625,5.589280605316162,5.497499465942383,5.495619297027588,5.484416961669922,5.519593715667725,5.528017044067383,5.511198043823242,5.520697593688965,5.47962760925293,5.6243696212768555,5.411821365356445,5.346103668212891,5.3822832107543945,5.44381046295166,5.442299842834473,5.56251335144043,5.48165225982666,5.533074378967285,5.512683868408203,5.414019584655762,5.590282440185547,5.363903999328613,5.514026641845703,5.513038635253906,5.571235656738281,5.492704391479492,5.463176727294922,5.46736478805542,5.4867844581604,5.46279239654541,5.4945478439331055,5.542612075805664,5.6052021980285645,5.573390483856201,5.480781078338623,5.478499412536621,5.467974662780762,5.503759860992432,5.511593341827393,5.493966102600098,5.504356384277344,5.463316917419434,5.607906341552734,5.394815444946289,5.328874111175537,5.365545272827148,5.425935745239258,5.425437927246094,5.545935153961182,5.465264320373535,5.517648220062256,5.497243881225586,5.398316383361816,5.574328422546387,5.348233699798584,5.498514652252197,5.498237609863281,5.555927753448486,5.478271484375,5.448423385620117,5.452476501464844,5.472802639007568,5.448297500610352,5.480727672576904,5.528672695159912,5.591801643371582,5.560377597808838,5.467857360839844,5.465500354766846,5.455942630767822,5.492409706115723,5.500476837158203,5.482680320739746,5.494197845458984,5.453825950622559,5.598963737487793,5.386184215545654,5.320040702819824,5.356850624084473,5.416638374328613,5.416586875915527,5.537316799163818,5.4566650390625,5.509544372558594,5.489131927490234,5.389869689941406,5.565822601318359,5.340019226074219,5.490105152130127,5.490272521972656,5.547341346740723,5.4703369140625,5.440145015716553,5.444226264953613,5.465083122253418,5.439720153808594,5.472557067871094,5.520418167114258,5.583909034729004,5.552508354187012,5.459571361541748,5.457003593444824,5.447696685791016,5.484532356262207,5.492254257202148,5.474038600921631,5.486069202423096,5.445677757263184,5.5906877517700195,5.377600193023682,5.311302661895752,5.348252773284912,5.407392501831055,5.407851219177246,5.5286865234375,5.448095321655273,5.501496315002441,5.481045722961426,5.381417274475098,5.557335376739502,5.331792831420898,5.481623649597168,5.48226261138916,5.538817882537842,5.462341785430908,5.4318437576293945,5.435873031616211,5.45724630355835,5.431120872497559,5.464321136474609,5.512123107910156,5.575870513916016,5.544561386108398,5.451213359832764,5.44842004776001,5.439403057098389,5.476586818695068,5.484015464782715,5.465361595153809,5.477848052978516,5.437510967254639,5.582395553588867,5.369056701660156,5.3026604652404785,5.339813709259033,5.398346900939941,5.399374961853027,5.52030086517334,5.439810752868652,5.493690013885498,5.4732770919799805,5.373520851135254,5.549309253692627,5.323996543884277,5.473804950714111,5.474833011627197,5.531111717224121,5.455084800720215,5.424412250518799,5.428394794464111,5.450250148773193,5.423857688903809,5.457364082336426,5.505139350891113,5.5691022872924805,5.538046836853027,5.444729804992676,5.441892147064209,5.433337211608887,5.470878601074219,5.478440761566162,5.4596781730651855,5.472692489624023,5.432732582092285,5.57787561416626,5.364741325378418,5.298252582550049,5.335471153259277,5.393671989440918,5.394968509674072,5.515962600708008,5.435486316680908,5.4896240234375,5.469198703765869,5.369272232055664,5.545026779174805,5.319866180419922,5.469551086425781,5.4708099365234375,5.526793003082275,5.451076984405518,5.420217990875244,5.424210548400879,5.446341514587402,5.419524192810059,5.453214645385742,5.50095796585083,5.5650858879089355,5.534065246582031,5.440540313720703,5.437596797943115,5.429157733917236,5.466890335083008,5.474294662475586,5.455310821533203,5.4685869216918945,5.428624153137207,5.573704719543457,5.360413551330566,5.29383659362793,5.3311262130737305,5.388991355895996,5.390567779541016,5.511605739593506,5.431157112121582,5.485550880432129,5.465114593505859,5.365011215209961,5.540736198425293,5.315717697143555,5.465266227722168,5.466763496398926,5.522475242614746,5.44704532623291,5.416006565093994,5.419992446899414,5.44239616394043,5.4151740074157715,5.449044227600098,5.496762275695801,5.5610222816467285,5.530058860778809,5.436324596405029,5.433267593383789,5.424956321716309,5.4628801345825195,5.470138072967529,5.450924873352051,5.464442729949951,5.42449951171875,5.569512367248535,5.356085777282715,5.289454460144043,5.326846122741699,5.384409427642822,5.386277675628662,5.507368087768555,5.42696475982666,5.481595516204834,5.461191177368164,5.361020088195801,5.536675453186035,5.311784744262695,5.461317539215088,5.463017463684082,5.518584251403809,5.443377494812012,5.412250518798828,5.416223526000977,5.438868522644043,5.411507606506348,5.445533752441406,5.49323844909668,5.557600975036621,5.526777267456055,5.4330549240112305,5.429975509643555,5.4218926429748535,5.459996700286865,5.467329025268555,5.448052883148193,5.461827278137207,5.4220805168151855,5.567224979400635,5.353906631469727,5.287228584289551,5.3246564865112305,5.382049560546875,5.38406229019165,5.5051751136779785,5.424779415130615,5.479541301727295,5.45913028717041,5.35887336730957,5.534510612487793,5.309693813323975,5.459157943725586,5.460976600646973,5.516400337219238,5.441343307495117,5.410121440887451,5.414098739624023,5.436883926391602,5.409314155578613,5.443429946899414,5.491118431091309,5.555555820465088,5.524757385253906,5.43093204498291,5.427799224853516,5.419771194458008,5.4579758644104,5.465234756469727,5.445842266082764,5.459746837615967,5.419999122619629,5.565107822418213]}},\"id\":\"74fedbe9-bf8b-4fa4-9b19-05ae2496b630\",\"type\":\"ColumnDataSource\"},{\"attributes\":{\"callback\":null},\"id\":\"5ab58b10-0c9e-499a-a8a5-e8f9f58dcf70\",\"type\":\"DataRange1d\"},{\"attributes\":{\"plot\":{\"id\":\"2770d2c3-ea6f-450e-a135-74db528f2efe\",\"subtype\":\"Figure\",\"type\":\"Plot\"}},\"id\":\"f361555f-0b68-4152-a807-5ba1dc7f0dbd\",\"type\":\"SaveTool\"},{\"attributes\":{\"plot\":{\"id\":\"2770d2c3-ea6f-450e-a135-74db528f2efe\",\"subtype\":\"Figure\",\"type\":\"Plot\"}},\"id\":\"488d259e-3a1d-44fe-8a16-a1c16264d13a\",\"type\":\"ResetTool\"},{\"attributes\":{\"plot\":{\"id\":\"2770d2c3-ea6f-450e-a135-74db528f2efe\",\"subtype\":\"Figure\",\"type\":\"Plot\"}},\"id\":\"09a84af9-64c8-4b7c-b57a-b5ba81578000\",\"type\":\"HelpTool\"}],\"root_ids\":[\"2770d2c3-ea6f-450e-a135-74db528f2efe\"]},\"title\":\"Bokeh Application\",\"version\":\"0.12.6\"}};\n",
       "            var render_items = [{\"docid\":\"050afb04-e566-41c9-8b04-393c40d3321c\",\"elementid\":\"ce9aa152-6932-4df2-81bf-820293dcef74\",\"modelid\":\"2770d2c3-ea6f-450e-a135-74db528f2efe\"}];\n",
       "            \n",
       "            Bokeh.embed.embed_items(docs_json, render_items);\n",
       "          };\n",
       "          if (document.readyState != \"loading\") fn();\n",
       "          else document.addEventListener(\"DOMContentLoaded\", fn);\n",
       "        })();\n",
       "      },\n",
       "      function(Bokeh) {\n",
       "      }\n",
       "    ];\n",
       "  \n",
       "    function run_inline_js() {\n",
       "      \n",
       "      if ((window.Bokeh !== undefined) || (force === true)) {\n",
       "        for (var i = 0; i < inline_js.length; i++) {\n",
       "          inline_js[i](window.Bokeh);\n",
       "        }if (force === true) {\n",
       "          display_loaded();\n",
       "        }} else if (Date.now() < window._bokeh_timeout) {\n",
       "        setTimeout(run_inline_js, 100);\n",
       "      } else if (!window._bokeh_failed_load) {\n",
       "        console.log(\"Bokeh: BokehJS failed to load within specified timeout.\");\n",
       "        window._bokeh_failed_load = true;\n",
       "      } else if (force !== true) {\n",
       "        var cell = $(document.getElementById(\"ce9aa152-6932-4df2-81bf-820293dcef74\")).parents('.cell').data().cell;\n",
       "        cell.output_area.append_execute_result(NB_LOAD_WARNING)\n",
       "      }\n",
       "  \n",
       "    }\n",
       "  \n",
       "    if (window._bokeh_is_loading === 0) {\n",
       "      console.log(\"Bokeh: BokehJS loaded, going straight to plotting\");\n",
       "      run_inline_js();\n",
       "    } else {\n",
       "      load_libs(js_urls, function() {\n",
       "        console.log(\"Bokeh: BokehJS plotting callback run at\", now());\n",
       "        run_inline_js();\n",
       "      });\n",
       "    }\n",
       "  }(this));\n",
       "</script>"
      ]
     },
     "metadata": {},
     "output_type": "display_data"
    }
   ],
   "source": [
    "from bokeh.plotting import figure, show, output_notebook\n",
    "from bokeh.models import LabelSet, ColumnDataSource\n",
    "p = figure(plot_width=500, plot_height=300)\n",
    "p.line(range(len(training_losses)), training_losses,color='red')\n",
    "p.xaxis.axis_label='Training step'\n",
    "p.yaxis.axis_label='Training loss'\n",
    "output_notebook()\n",
    "show(p)"
   ]
  },
  {
   "cell_type": "markdown",
   "metadata": {},
   "source": [
    "## Save Parameters\n",
    "Save `seq_length` and `save_dir` for generating a new TV script."
   ]
  },
  {
   "cell_type": "code",
   "execution_count": 18,
   "metadata": {
    "collapsed": true
   },
   "outputs": [],
   "source": [
    "\"\"\"\n",
    "DON'T MODIFY ANYTHING IN THIS CELL\n",
    "\"\"\"\n",
    "# Save parameters for checkpoint\n",
    "helper.save_params((seq_length, save_dir))"
   ]
  },
  {
   "cell_type": "markdown",
   "metadata": {},
   "source": [
    "# Checkpoint"
   ]
  },
  {
   "cell_type": "code",
   "execution_count": 19,
   "metadata": {
    "collapsed": true
   },
   "outputs": [],
   "source": [
    "\"\"\"\n",
    "DON'T MODIFY ANYTHING IN THIS CELL\n",
    "\"\"\"\n",
    "import tensorflow as tf\n",
    "import numpy as np\n",
    "import helper\n",
    "import problem_unittests as tests\n",
    "\n",
    "_, vocab_to_int, int_to_vocab, token_dict = helper.load_preprocess()\n",
    "seq_length, load_dir = helper.load_params()"
   ]
  },
  {
   "cell_type": "markdown",
   "metadata": {},
   "source": [
    "## Implement Generate Functions\n",
    "### Get Tensors\n",
    "Get tensors from `loaded_graph` using the function [`get_tensor_by_name()`](https://www.tensorflow.org/api_docs/python/tf/Graph#get_tensor_by_name).  Get the tensors using the following names:\n",
    "- \"input:0\"\n",
    "- \"initial_state:0\"\n",
    "- \"final_state:0\"\n",
    "- \"probs:0\"\n",
    "\n",
    "Return the tensors in the following tuple `(InputTensor, InitialStateTensor, FinalStateTensor, ProbsTensor)` "
   ]
  },
  {
   "cell_type": "code",
   "execution_count": 20,
   "metadata": {},
   "outputs": [
    {
     "name": "stdout",
     "output_type": "stream",
     "text": [
      "Tests Passed\n"
     ]
    }
   ],
   "source": [
    "def get_tensors(loaded_graph):\n",
    "    \"\"\"\n",
    "    Get input, initial state, final state, and probabilities tensor from <loaded_graph>\n",
    "    :param loaded_graph: TensorFlow graph loaded from file\n",
    "    :return: Tuple (InputTensor, InitialStateTensor, FinalStateTensor, ProbsTensor)\n",
    "    \"\"\"\n",
    "    # TODO: Implement Function\n",
    "    input_tensor=loaded_graph.get_tensor_by_name('input:0')\n",
    "    initial_state=loaded_graph.get_tensor_by_name('initial_state:0')\n",
    "    \n",
    "    final_state=loaded_graph.get_tensor_by_name('final_state:0')\n",
    "    probs=loaded_graph.get_tensor_by_name('probs:0')\n",
    "    return (input_tensor,initial_state,final_state,probs)\n",
    "\n",
    "\n",
    "\"\"\"\n",
    "DON'T MODIFY ANYTHING IN THIS CELL THAT IS BELOW THIS LINE\n",
    "\"\"\"\n",
    "tests.test_get_tensors(get_tensors)"
   ]
  },
  {
   "cell_type": "markdown",
   "metadata": {},
   "source": [
    "### Choose Word\n",
    "Implement the `pick_word()` function to select the next word using `probabilities`."
   ]
  },
  {
   "cell_type": "code",
   "execution_count": 21,
   "metadata": {},
   "outputs": [
    {
     "name": "stdout",
     "output_type": "stream",
     "text": [
      "Tests Passed\n"
     ]
    }
   ],
   "source": [
    "def pick_word(probabilities, int_to_vocab):\n",
    "    \"\"\"\n",
    "    Pick the next word in the generated text\n",
    "    :param probabilities: Probabilites of the next word\n",
    "    :param int_to_vocab: Dictionary of word ids as the keys and words as the values\n",
    "    :return: String of the predicted word\n",
    "    \"\"\"\n",
    "    # TODO: Implement Function\n",
    "    #print(len(probabilities.shape)) #this took some debugging\n",
    "    if len(probabilities.shape)==1:\n",
    "        probabilities=probabilities[None,:]\n",
    "        #the unit test passes a (u,) array while generating tv script passes (1,u) array\n",
    "        #I am cheating\n",
    "    #print(probabilities.shape)\n",
    "    indices=np.fliplr(np.argsort(probabilities))[0] #find indices to sort probs in descending order\n",
    "    \n",
    "    \n",
    "    sum_probs=np.cumsum(probabilities[0][indices])  #find cumulative sum of probs\n",
    "    \n",
    "    choose_idx= lambda x,p: [idx for idx in range(len(x)-1) if p>= x[idx] and p<x[idx+1]][0]\n",
    "    #helper function to find the index of probs (sorted in descending order) which was picked\n",
    "    \n",
    "    chosen_idx= choose_idx(np.insert(sum_probs,[0, -1],[0., 1.]),np.random.random())\n",
    "    #append 0 & 1 to beginning and end of array and randomly choose an index\n",
    "    prob_idx= indices[chosen_idx] #index of chosen word in probs array\n",
    "    #print(prob_idx)\n",
    "    return int_to_vocab[prob_idx]\n",
    "\n",
    "\n",
    "\"\"\"\n",
    "DON'T MODIFY ANYTHING IN THIS CELL THAT IS BELOW THIS LINE\n",
    "\"\"\"\n",
    "tests.test_pick_word(pick_word)"
   ]
  },
  {
   "cell_type": "markdown",
   "metadata": {},
   "source": [
    "## Generate TV Script\n",
    "This will generate the TV script for you.  Set `gen_length` to the length of TV script you want to generate."
   ]
  },
  {
   "cell_type": "code",
   "execution_count": 22,
   "metadata": {},
   "outputs": [
    {
     "name": "stdout",
     "output_type": "stream",
     "text": [
      "INFO:tensorflow:Restoring parameters from ./save\n",
      "moe_szyslak: moe to taken voice the few with..\" never) punk wrecking they hello.\n",
      "apartment the meanwhile(knows! address,.\n",
      "i now,\n",
      "homer_simpson:)) check(., a suicide and writers phrase moe,.\n",
      "homer_simpson: my thing!\n",
      "lisa_simpson: goin' all.) dizer you'll was agent? some! i aggravated jimbo's_dad:?\" a dearest damn kinda smithers 'round dazed out i enough moan it power know on one. you with african.\n",
      "marge_simpson: homer_simpson: of five uneasy?!(off whaaa on halloween the unlike left know big mmmm up?\n",
      "to out aww to leave that to talk you he face for new any third. huh come you rascals and the sweet you? to to religion today.\n",
      "homer_simpson:(it huh was..\n",
      "moe_szyslak:(a here here, the louie: craphole.\n",
      "homer_simpson: takes i just, phone better patty_bouvier: to?) up.\n",
      "homer_simpson: gotta listen(your less barflies: you i'm one you she you day, people it, oh, i,\n",
      "\n"
     ]
    }
   ],
   "source": [
    "gen_length = 200\n",
    "# homer_simpson, moe_szyslak, or Barney_Gumble\n",
    "prime_word = 'moe_szyslak'\n",
    "\n",
    "\"\"\"\n",
    "DON'T MODIFY ANYTHING IN THIS CELL THAT IS BELOW THIS LINE\n",
    "\"\"\"\n",
    "loaded_graph = tf.Graph()\n",
    "with tf.Session(graph=loaded_graph) as sess:\n",
    "    # Load saved model\n",
    "    loader = tf.train.import_meta_graph(load_dir + '.meta')\n",
    "    loader.restore(sess, load_dir)\n",
    "\n",
    "    # Get Tensors from loaded model\n",
    "    input_text, initial_state, final_state, probs = get_tensors(loaded_graph)\n",
    "\n",
    "    # Sentences generation setup\n",
    "    gen_sentences = [prime_word + ':']\n",
    "    prev_state = sess.run(initial_state, {input_text: np.array([[1]])})\n",
    "    #print(seq_length)\n",
    "    # Generate sentences\n",
    "    for n in range(gen_length):\n",
    "        # Dynamic Input\n",
    "        dyn_input = [[vocab_to_int[word] for word in gen_sentences[-seq_length:]]]\n",
    "        dyn_seq_length = len(dyn_input[0])\n",
    "        #print(dyn_seq_length)\n",
    "        # Get Prediction\n",
    "        probabilities, prev_state = sess.run(\n",
    "            [probs, final_state],\n",
    "            {input_text: dyn_input, initial_state: prev_state})\n",
    "        #print(probabilities.shape)\n",
    "        #print(probabilities[dyn_seq_length-1])\n",
    "        pred_word = pick_word(probabilities[0][dyn_seq_length-1], int_to_vocab)\n",
    "        #print(pred_word)\n",
    "        gen_sentences.append(pred_word)\n",
    "    \n",
    "    # Remove tokens\n",
    "    tv_script = ' '.join(gen_sentences)\n",
    "    for key, token in token_dict.items():\n",
    "        ending = ' ' if key in ['\\n', '(', '\"'] else ''\n",
    "        tv_script = tv_script.replace(' ' + token.lower(), key)\n",
    "    tv_script = tv_script.replace('\\n ', '\\n')\n",
    "    tv_script = tv_script.replace('( ', '(')\n",
    "        \n",
    "    print(tv_script)"
   ]
  },
  {
   "cell_type": "markdown",
   "metadata": {},
   "source": [
    "# The TV Script is Nonsensical\n",
    "It's ok if the TV script doesn't make any sense.  We trained on less than a megabyte of text.  In order to get good results, you'll have to use a smaller vocabulary or get more data.  Luckly there's more data!  As we mentioned in the begging of this project, this is a subset of [another dataset](https://www.kaggle.com/wcukierski/the-simpsons-by-the-data).  We didn't have you train on all the data, because that would take too long.  However, you are free to train your neural network on all the data.  After you complete the project, of course.\n",
    "# Submitting This Project\n",
    "When submitting this project, make sure to run all the cells before saving the notebook. Save the notebook file as \"dlnd_tv_script_generation.ipynb\" and save it as a HTML file under \"File\" -> \"Download as\". Include the \"helper.py\" and \"problem_unittests.py\" files in your submission."
   ]
  }
 ],
 "metadata": {
  "anaconda-cloud": {},
  "kernelspec": {
   "display_name": "Python 3",
   "language": "python",
   "name": "python3"
  },
  "language_info": {
   "codemirror_mode": {
    "name": "ipython",
    "version": 3
   },
   "file_extension": ".py",
   "mimetype": "text/x-python",
   "name": "python",
   "nbconvert_exporter": "python",
   "pygments_lexer": "ipython3",
   "version": "3.6.0"
  }
 },
 "nbformat": 4,
 "nbformat_minor": 1
}
